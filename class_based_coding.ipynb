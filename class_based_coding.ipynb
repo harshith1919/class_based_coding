{
 "cells": [
  {
   "cell_type": "code",
   "execution_count": 1,
   "metadata": {},
   "outputs": [
    {
     "name": "stdout",
     "output_type": "stream",
     "text": [
      "red\n",
      "250\n"
     ]
    }
   ],
   "source": [
    "#*args is used to pass multiple arguments when the number is not known and non-keyword arguments are passed\n",
    "#**kwargs is similar to *args but we can pass keyword arguments\n",
    "class car():\n",
    "    def __init__(self,*args):\n",
    "        self.speed = args[0]\n",
    "        self.color=args[1]\n",
    "                 \n",
    "#creating objects of car class\n",
    "audi=car(200,'red')\n",
    "bmw=car(250,'black')\n",
    "mb=car(190,'white')\n",
    "    \n",
    "print(audi.color)\n",
    "print(bmw.speed)"
   ]
  },
  {
   "cell_type": "code",
   "execution_count": 4,
   "metadata": {},
   "outputs": [
    {
     "name": "stdout",
     "output_type": "stream",
     "text": [
      "red\n",
      "200\n",
      "black\n",
      "250\n",
      "white\n",
      "190\n"
     ]
    }
   ],
   "source": [
    "#applying generator function to classes\n",
    "class car(): \n",
    "    def __init__(self,**kwargs): \n",
    "        self.speed = kwargs['s'] \n",
    "        self.color = kwargs['c']\n",
    "def getcars():\n",
    "    yield car(s=200,c='red')\n",
    "    yield car(s=250,c='black')\n",
    "    yield car(s=190,c='white')\n",
    "                 \n",
    "#creating objects of car class\n",
    "for i in getcars():\n",
    "    print(i.color)\n",
    "    print(i.speed)\n"
   ]
  },
  {
   "cell_type": "code",
   "execution_count": null,
   "metadata": {},
   "outputs": [],
   "source": []
  }
 ],
 "metadata": {
  "kernelspec": {
   "display_name": "Python 3",
   "language": "python",
   "name": "python3"
  },
  "language_info": {
   "codemirror_mode": {
    "name": "ipython",
    "version": 3
   },
   "file_extension": ".py",
   "mimetype": "text/x-python",
   "name": "python",
   "nbconvert_exporter": "python",
   "pygments_lexer": "ipython3",
   "version": "3.8.5"
  }
 },
 "nbformat": 4,
 "nbformat_minor": 4
}
